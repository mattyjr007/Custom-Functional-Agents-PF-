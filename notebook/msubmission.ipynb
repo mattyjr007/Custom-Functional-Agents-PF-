{
 "cells": [
  {
   "cell_type": "code",
   "execution_count": 12,
   "id": "9c7f48cd-7bcc-4712-a450-c5d749089ed4",
   "metadata": {
    "tags": []
   },
   "outputs": [],
   "source": [
    "from langchain.embeddings.openai import OpenAIEmbeddings\n",
    "from langchain.chat_models import ChatOpenAI\n",
    "from langchain.document_loaders.csv_loader import CSVLoader\n",
    "from langchain.vectorstores import FAISS\n",
    "from typing import Type, Dict\n",
    "from pydantic import BaseModel, Field\n",
    "from langchain.output_parsers import JsonOutputToolsParser\n",
    "from langchain.tools import BaseTool\n",
    "from langchain.agents import initialize_agent, AgentType\n",
    "\n",
    "from langchain.agents.agent_types import AgentType\n",
    "from langchain_experimental.agents.agent_toolkits import create_csv_agent\n",
    "from langchain.agents import AgentExecutor, Tool, ZeroShotAgent\n",
    "from langchain.chains import SimpleSequentialChain,StuffDocumentsChain, SequentialChain\n",
    "from langchain.prompts import PromptTemplate\n",
    "from langchain.chains import LLMChain\n",
    "from langchain.memory import ConversationBufferMemory\n",
    "from langchain.prompts import (\n",
    "    ChatPromptTemplate,\n",
    "    HumanMessagePromptTemplate,\n",
    "    MessagesPlaceholder,\n",
    "    SystemMessagePromptTemplate,\n",
    ")\n",
    "\n",
    "from dotenv.main import load_dotenv\n",
    "\n",
    "from langchain.agents import initialize_agent, Tool\n",
    "from langchain.agents import AgentType\n",
    "from langchain.chat_models import ChatOpenAI\n",
    "\n",
    "from langchain.chains.router import MultiPromptChain\n",
    "from langchain.chains import ConversationChain\n",
    "load_dotenv()\n",
    "# decouple to read .env variables(OpenAI Key)\n",
    "#from decouple import config\n",
    "# LLM Router chains\n",
    "from langchain.chains.router.llm_router import LLMRouterChain, RouterOutputParser\n",
    "from langchain.chains.router.multi_prompt_prompt import MULTI_PROMPT_ROUTER_TEMPLATE\n",
    "import os"
   ]
  },
  {
   "cell_type": "code",
   "execution_count": null,
   "id": "d46919a0-e853-4072-92a5-935890361db1",
   "metadata": {},
   "outputs": [],
   "source": [
    "import pandas as pd\n",
    "\n",
    "data = [\n",
    "    {\"apartment_id\": 1, \"number\": 101, \"address\": \"123 Main Street\"},\n",
    "    {\"apartment_id\": 2, \"number\": 102, \"address\": \"456 Elm Street\"},\n",
    "    {\"apartment_id\": 3, \"number\": 103, \"address\": \"789 Oak Avenue\"},\n",
    "    {\"apartment_id\": 4, \"number\": 104, \"address\": \"321 Pine Road\"},\n",
    "    {\"apartment_id\": 5, \"number\": 105, \"address\": \"654 Maple Lane\"},\n",
    "    {\"apartment_id\": 6, \"number\": 106, \"address\": \"987 Cedar Court\"},\n",
    "    {\"apartment_id\": 7, \"number\": 107, \"address\": \"246 Birch Drive\"},\n",
    "    {\"apartment_id\": 8, \"number\": 108, \"address\": \"135 Walnut Way\"},\n",
    "    {\"apartment_id\": 9, \"number\": 109, \"address\": \"369 Cherry Lane\"},\n",
    "    {\"apartment_id\": 10, \"number\": 110, \"address\": \"802 Ash Street\"}\n",
    "]\n",
    "\n",
    "df = pd.DataFrame(data)\n",
    "df.to_csv('apartments.csv', index=False)\n"
   ]
  },
  {
   "cell_type": "code",
   "execution_count": 13,
   "id": "d717e06a-b76b-437a-8761-d04c36443c0d",
   "metadata": {
    "tags": []
   },
   "outputs": [],
   "source": [
    "chat_llm = ChatOpenAI(api_key=os.environ['OPENAI_API_KEY'], model='gpt-4', temperature=0.34)"
   ]
  },
  {
   "cell_type": "markdown",
   "id": "e59a4b67-f1cb-47dc-88cf-f8e19c57403c",
   "metadata": {},
   "source": [
    "## Load data"
   ]
  },
  {
   "cell_type": "code",
   "execution_count": 15,
   "id": "aca73a3d-d1e0-4672-b60e-082460440fff",
   "metadata": {
    "tags": []
   },
   "outputs": [],
   "source": [
    "loader = CSVLoader(file_path='apartments.csv', encoding=\"utf-8\", csv_args={\n",
    "                'delimiter': ','})\n",
    "\n",
    "data = loader.load()\n",
    "\n",
    "embeddings = OpenAIEmbeddings(api_key=os.environ['OPENAI_API_KEY'])\n",
    "vectorstore = FAISS.from_documents(data, embeddings)"
   ]
  },
  {
   "cell_type": "markdown",
   "id": "2f4d7686-8ed3-48f2-82c6-2ae7bce6b39c",
   "metadata": {},
   "source": [
    "## Knowledge retrieval agent/Chain"
   ]
  },
  {
   "cell_type": "code",
   "execution_count": 16,
   "id": "da5c64a3-54aa-4824-9c06-a376391d5ea4",
   "metadata": {
    "collapsed": true,
    "jupyter": {
     "outputs_hidden": true
    },
    "tags": []
   },
   "outputs": [
    {
     "name": "stderr",
     "output_type": "stream",
     "text": [
      "/Users/matty/anaconda3/lib/python3.11/site-packages/langchain_core/_api/deprecation.py:117: LangChainDeprecationWarning: The class `langchain.agents.mrkl.base.ZeroShotAgent` was deprecated in langchain 0.1.0 and will be removed in 0.2.0. Use create_react_agent instead.\n",
      "  warn_deprecated(\n"
     ]
    }
   ],
   "source": [
    "from langchain.tools.retriever import create_retriever_tool\n",
    "\n",
    "retriever = vectorstore.as_retriever()\n",
    "\n",
    "retriever_tool = create_retriever_tool(\n",
    "    retriever,\n",
    "    \"apartment info\",\n",
    "    \"Search for information about an apartment. For any questions about apartment information, you must use this tool!\",\n",
    ")\n",
    "\n",
    "\n",
    "retriever_prompt = ZeroShotAgent.create_prompt(\n",
    "    tools=[retriever_tool], )\n",
    "\n",
    "memory_retriever = ConversationBufferMemory(\n",
    "        memory_key='history',\n",
    "        return_messages=True,\n",
    ")\n",
    "\n",
    "#Set up the LLM\n",
    "llm_chain_retriever = LLMChain(llm=chat_llm, prompt=retriever_prompt)\n",
    "agent_retriever = ZeroShotAgent(llm_chain=llm_chain_retriever, tools=[retriever_tool], verbose=True)\n",
    "\n",
    "#Integrating tools, agent, and memory\n",
    "agent_chain_retriever = AgentExecutor.from_agent_and_tools(agent=agent_retriever, tools=[retriever_tool], verbose=True, memory=memory_retriever, return_only_outputs=True)\n",
    "\n",
    "\n",
    "# dummy prompt given that agent and multipromt routing doesnt work or Conversational retrieval\n",
    "retriever_prompt2 = PromptTemplate(\n",
    "    input_variables=['input'],\n",
    "    template=\"return `{input}` do not add anything\"\n",
    ")\n",
    "\n",
    "chain_retriever2 = LLMChain(llm=chat_llm, prompt=retriever_prompt2, output_key=\"text\")\n",
    "\n",
    "seq_chain_retriever = SimpleSequentialChain(chains=[agent_chain_retriever, chain_retriever2],output_key=\"text\")\n",
    "\n",
    "#print(chain_1.run({\"input\":\"i want to buy a house\"}))"
   ]
  },
  {
   "cell_type": "markdown",
   "id": "1390f840-bf82-4dcc-ae58-768bbdcea288",
   "metadata": {},
   "source": [
    "## Apartment Purchase input Chain "
   ]
  },
  {
   "cell_type": "code",
   "execution_count": 17,
   "id": "2cb3cfc4-ba84-4908-b251-2b24124a18c0",
   "metadata": {
    "tags": []
   },
   "outputs": [],
   "source": [
    "memory_purc = ConversationBufferMemory(memory_key=\"history\",return_messages=True)\n",
    "\n",
    "\n",
    "instructions= \"\"\"your are a realtor chat agent who sells apartments, your duty is to respond to purchase request for any of the apartment or house. \n",
    "    \n",
    "            `if the user wants to make a purchase ask them for their: name, id_number and the apartment number`.\n",
    "            \n",
    "            `make sure that these values are passed if not keep persisting for them`.\n",
    "            \n",
    "            `if all the values are inputed, \n",
    "            \n",
    "            << FORMATTING >>\n",
    "                Return a JSON object formatted to look like:\n",
    "                ```\n",
    "                {{\n",
    "                    \"name\": string \\ users name\n",
    "                    \"id_number\": string \\ users id_number\n",
    "                    \"apartment_id\": string \\ apartment id being purchased \n",
    "                }}```\n",
    "\n",
    "\n",
    "            \"\"\"\n",
    "\n",
    "prompt_purc = ChatPromptTemplate(\n",
    "    messages=[\n",
    "        SystemMessagePromptTemplate.from_template(instructions),\n",
    "        # The `variable_name` here is what must align with memory\n",
    "         MessagesPlaceholder(variable_name=\"history\"),\n",
    "        HumanMessagePromptTemplate.from_template(\"{input}\"),\n",
    "    ]\n",
    ")\n",
    "\n",
    "chain_purc= LLMChain(llm=chat_llm, prompt=prompt_purc,memory=memory_purc,output_key=\"text\")\n"
   ]
  },
  {
   "cell_type": "code",
   "execution_count": null,
   "id": "76dbcebd-6e36-4953-b6af-a1de38848d7b",
   "metadata": {},
   "outputs": [],
   "source": []
  },
  {
   "cell_type": "markdown",
   "id": "291d9eab-decc-42f4-b964-7de70f5885f4",
   "metadata": {},
   "source": [
    "## Multiple Chain Pipeline Routing"
   ]
  },
  {
   "cell_type": "code",
   "execution_count": 18,
   "id": "480978e3-1d92-4c5c-ae35-102fcde7b6bd",
   "metadata": {
    "tags": []
   },
   "outputs": [],
   "source": [
    "prompt_infos = [\n",
    "    {\n",
    "        \"name\": \"apartment info\",\n",
    "        \"description\": \"You give information about available apartments/houses\",\n",
    "        \"chain\":  seq_chain_retriever,\n",
    "    },\n",
    "    {\n",
    "        \"name\": \"purchase apartment\",\n",
    "        \"description\": instructions,\n",
    "        \"chain\": chain_purc,\n",
    "    },\n",
    "\n",
    "]"
   ]
  },
  {
   "cell_type": "code",
   "execution_count": 19,
   "id": "6ad6e338-e3c2-4610-84f3-0d197e5d1f3a",
   "metadata": {
    "tags": []
   },
   "outputs": [],
   "source": [
    "# map destination chains\n",
    "destination_chains = {}\n",
    "for prompt_info in prompt_infos:\n",
    "    name = prompt_info[\"name\"]\n",
    "    destination_chains[name] = prompt_info['chain']\n",
    "default_chain = ConversationChain(llm=chat_llm,output_key='text')\n"
   ]
  },
  {
   "cell_type": "code",
   "execution_count": 20,
   "id": "e9fd5d51-bf64-4d5b-8870-2e60772c70b6",
   "metadata": {
    "tags": []
   },
   "outputs": [],
   "source": [
    "# Creating LLMRouterChain\n",
    "destinations = [f\"{p['name']}: {p['description']}\" for p in prompt_infos]\n",
    "destinations_str = \"\\n\".join(destinations)\n",
    "# print(destinations_str)\n",
    "\n",
    "router_template = MULTI_PROMPT_ROUTER_TEMPLATE.format(destinations=destinations_str)\n",
    "\n",
    "router_prompt = PromptTemplate(\n",
    "    template=router_template,\n",
    "    input_variables=[\"input\"],\n",
    "    output_parser=RouterOutputParser(),\n",
    ")"
   ]
  },
  {
   "cell_type": "code",
   "execution_count": 21,
   "id": "09488a2e-adb7-46d7-b21a-a14d9c84c2fa",
   "metadata": {
    "tags": []
   },
   "outputs": [],
   "source": [
    "# creating the router chain\n",
    "router_chain = LLMRouterChain.from_llm(chat_llm, router_prompt)\n",
    "\n",
    "# Multiple Prompt Chain\n",
    "chain = MultiPromptChain(\n",
    "    router_chain=router_chain,\n",
    "    destination_chains=destination_chains,\n",
    "    default_chain=default_chain,\n",
    "    verbose=True, \n",
    ")"
   ]
  },
  {
   "cell_type": "code",
   "execution_count": 22,
   "id": "e38ec3f5-4e3f-4d1d-be3f-f905fbc8ffaf",
   "metadata": {
    "tags": []
   },
   "outputs": [
    {
     "name": "stderr",
     "output_type": "stream",
     "text": [
      "/Users/matty/anaconda3/lib/python3.11/site-packages/langchain_core/_api/deprecation.py:117: LangChainDeprecationWarning: The function `run` was deprecated in LangChain 0.1.0 and will be removed in 0.2.0. Use invoke instead.\n",
      "  warn_deprecated(\n"
     ]
    },
    {
     "name": "stdout",
     "output_type": "stream",
     "text": [
      "\n",
      "\n",
      "\u001b[1m> Entering new MultiPromptChain chain...\u001b[0m\n",
      "purchase apartment: {'input': 'i want to buy an apartment'}\n",
      "\u001b[1m> Finished chain.\u001b[0m\n",
      "That's great! Could you please provide me with your name, ID number, and the apartment number you are interested in?\n"
     ]
    }
   ],
   "source": [
    "print(chain.run({\"input\":\"i want to buy an apartment\"}))"
   ]
  },
  {
   "cell_type": "code",
   "execution_count": null,
   "id": "9dc3033a-5bad-4529-a5aa-11ad7a8d5702",
   "metadata": {},
   "outputs": [],
   "source": []
  },
  {
   "cell_type": "code",
   "execution_count": 23,
   "id": "d3300edd-1800-455d-9119-64f1da96505c",
   "metadata": {
    "tags": []
   },
   "outputs": [
    {
     "name": "stderr",
     "output_type": "stream",
     "text": [
      "/Users/matty/anaconda3/lib/python3.11/site-packages/langchain_core/_api/deprecation.py:117: LangChainDeprecationWarning: The function `initialize_agent` was deprecated in LangChain 0.1.0 and will be removed in 0.2.0. Use Use new agent constructor methods like create_react_agent, create_json_agent, create_structured_chat_agent, etc. instead.\n",
      "  warn_deprecated(\n"
     ]
    },
    {
     "name": "stdout",
     "output_type": "stream",
     "text": [
      "\n",
      "\n",
      "\u001b[1m> Entering new AgentExecutor chain...\u001b[0m\n",
      "\u001b[32;1m\u001b[1;3m\n",
      "Invoking: `make_purchase_reservation` with `{'apartment_id': '5', 'id_number': '12345'}`\n",
      "\n",
      "\n",
      "\u001b[0mApartment ID: 5\n",
      "ID Number: 12345\n",
      "SUCCESS\n",
      "\u001b[36;1m\u001b[1;3mNone\u001b[0m\u001b[32;1m\u001b[1;3mThe purchase reservation for the apartment has been successfully made, James.\u001b[0m\n",
      "\n",
      "\u001b[1m> Finished chain.\u001b[0m\n"
     ]
    },
    {
     "data": {
      "text/plain": [
       "'The purchase reservation for the apartment has been successfully made, James.'"
      ]
     },
     "execution_count": 23,
     "metadata": {},
     "output_type": "execute_result"
    }
   ],
   "source": [
    "class PurchaseReservationInput(BaseModel):\n",
    "    \"\"\"Inputs for making a purchase reservation\"\"\"\n",
    "    apartment_id: str = Field(description=\"ID of the apartment\")\n",
    "    id_number: str = Field(description=\" documents with the user id number\")\n",
    "\n",
    "class PurchaseReservationTool(BaseTool):\n",
    "    name = \"make_purchase_reservation\"\n",
    "    description = \"\"\"\n",
    "        Tool for making a purchase for an apartment.\n",
    "        Prints out the provided data and SUCCESS.\n",
    "        \"\"\"\n",
    "    args_schema: Type[BaseModel] = PurchaseReservationInput\n",
    "\n",
    "    def _run(self, apartment_id: str, id_number: str):\n",
    "        print(\"Apartment ID:\", apartment_id)\n",
    "        print(\"ID Number:\", id_number)\n",
    "        print(\"SUCCESS\")\n",
    "\n",
    "\n",
    "\n",
    "tool_purc = [\n",
    "     \n",
    "   PurchaseReservationTool()\n",
    "]\n",
    "\n",
    "agent_make_purc = initialize_agent(\n",
    "    tool_purc, chat_llm, agent=AgentType.OPENAI_FUNCTIONS, verbose=True)\n",
    "\n",
    "agent_make_purc.run(\"\"\"Thank you for providing all the necessary information, James. Here is the purchase request:\n",
    "\n",
    "```\n",
    "{\n",
    "    \"name\": \"james\",\n",
    "    \"id_number\": \"12345\",\n",
    "    \"apartment_id\": \"5\"\n",
    "}```\"\"\")\n"
   ]
  },
  {
   "cell_type": "code",
   "execution_count": null,
   "id": "c25bfbdd-f7c2-4579-b88e-697d6e979690",
   "metadata": {},
   "outputs": [],
   "source": []
  },
  {
   "cell_type": "code",
   "execution_count": 24,
   "id": "17383ef0-fc69-48b0-a496-9bb9af36e2e0",
   "metadata": {
    "tags": []
   },
   "outputs": [],
   "source": [
    "def chatRelator(message:str):\n",
    "    \n",
    "    \"\"\"\n",
    "    This function is used to have a conversation with the realestate agent to get info on apartments and make a purchase\n",
    "    \"\"\"\n",
    "    response = chain.run({\"input\":message})\n",
    "    print(response)\n",
    "    \n",
    "    if '\"name\":' in response and '\"id_number\":' in response and '\"apartment_id\":' in response:\n",
    "        resp = agent_make_purc.run(response)\n",
    "        print(resp)\n",
    "    else:\n",
    "        pass\n",
    "    "
   ]
  },
  {
   "cell_type": "code",
   "execution_count": 25,
   "id": "d7d849de-6459-43d3-980b-76c3321601be",
   "metadata": {
    "tags": []
   },
   "outputs": [
    {
     "name": "stdout",
     "output_type": "stream",
     "text": [
      "\n",
      "\n",
      "\u001b[1m> Entering new MultiPromptChain chain...\u001b[0m\n",
      "apartment info: {'input': 'which apartment is number 101'}\n",
      "\n",
      "\u001b[1m> Entering new AgentExecutor chain...\u001b[0m\n",
      "\u001b[32;1m\u001b[1;3mI need to use the apartment info tool to find out which apartment is number 101.\n",
      "Action: apartment info\n",
      "Action Input: 101\u001b[0m\n",
      "Observation: \u001b[36;1m\u001b[1;3mapartment_id: 1\n",
      "number: 101\n",
      "address: 123 Main Street\n",
      "\n",
      "apartment_id: 2\n",
      "number: 102\n",
      "address: 456 Elm Street\n",
      "\n",
      "apartment_id: 10\n",
      "number: 110\n",
      "address: 802 Ash Street\n",
      "\n",
      "apartment_id: 7\n",
      "number: 107\n",
      "address: 246 Birch Drive\u001b[0m\n",
      "Thought:\u001b[32;1m\u001b[1;3mI now know the final answer\n",
      "Final Answer: The apartment number 101 is located at 123 Main Street.\u001b[0m\n",
      "\n",
      "\u001b[1m> Finished chain.\u001b[0m\n",
      "\n",
      "\u001b[1m> Finished chain.\u001b[0m\n",
      "The apartment number 101 is located at 123 Main Street.\n"
     ]
    }
   ],
   "source": [
    "chatRelator(\"which apartment is numbers 101\")"
   ]
  },
  {
   "cell_type": "code",
   "execution_count": null,
   "id": "1f0afa1c-25c2-4fba-9b0a-bff4c92994d9",
   "metadata": {},
   "outputs": [],
   "source": []
  },
  {
   "cell_type": "code",
   "execution_count": null,
   "id": "423abbf9-b85e-4c96-97ce-dcf8e47626f4",
   "metadata": {},
   "outputs": [],
   "source": []
  },
  {
   "cell_type": "code",
   "execution_count": null,
   "id": "2807e03f-b232-4431-bf0e-800123416ed6",
   "metadata": {},
   "outputs": [],
   "source": []
  },
  {
   "cell_type": "markdown",
   "id": "e1710531-9cd0-4483-9522-cfbb0e3e5d1f",
   "metadata": {},
   "source": [
    "### Conclusion"
   ]
  },
  {
   "cell_type": "markdown",
   "id": "acceca4d-240c-42be-8427-d43ef93ae826",
   "metadata": {},
   "source": [
    "The **Custom Functional Agents** bot delivered the core function a and b. several approach were carried out to meet the projects goal. the bot is able to answer questions on the csv dummy dataset on housing/apartment. it can provide information about the apartments dataset. if users are requesting to make a purchase of an apartment, it collect some basic informations and executes a purchase function. Tho no validation was carried out for the scope of this project for making sure apartments exist or can be purchased. further improvement can be carried out in a more relaxable timeframe. due to the timeframe, core function c was skipped."
   ]
  },
  {
   "cell_type": "markdown",
   "id": "d7b0fc0e-8381-48dc-addb-a97208937707",
   "metadata": {},
   "source": [
    "### Limitation"
   ]
  },
  {
   "cell_type": "markdown",
   "id": "af5d987e-138a-4b61-9d55-6f7c9feefda6",
   "metadata": {},
   "source": [
    "- Due to time constraints, several functionalities that could have been implemented in the system were not prioritized.\n",
    "- The system for this test development can engage in basic conversation with a user regarding information about an apartment and making a purchase.\n",
    "- The system does not validate whether the given input corresponds to an existing apartment or not.\n",
    "- The prompt could be enhanced for better user interaction.\n",
    "- The model may occasionally deviate from the intended path if the questions are unrelated."
   ]
  },
  {
   "cell_type": "markdown",
   "id": "9ef8526d-f1cf-4ab3-bfd8-b13888ed896d",
   "metadata": {},
   "source": [
    "### Challenges faced"
   ]
  },
  {
   "cell_type": "markdown",
   "id": "3509626a-5846-4591-9b3c-6d3b5cd48c69",
   "metadata": {},
   "source": [
    "- Integration Complexity: One major challenge encountered involved integrating multiple chains and agents, as each had outputs that were incompatible with one another.\n",
    "- Dictionary Input Handling: Another challenge arose in effectively managing a dictionary input within a custom function.\n",
    "- Sequential Agent Utilization: There was difficulty in efficiently utilizing agents and retrieval chains in a sequential manner, posing a significant challenge in the development process."
   ]
  },
  {
   "cell_type": "code",
   "execution_count": null,
   "id": "a6493a20-b20e-4388-b4e9-3957453016cd",
   "metadata": {},
   "outputs": [],
   "source": []
  }
 ],
 "metadata": {
  "kernelspec": {
   "display_name": "Python 3 (ipykernel)",
   "language": "python",
   "name": "python3"
  },
  "language_info": {
   "codemirror_mode": {
    "name": "ipython",
    "version": 3
   },
   "file_extension": ".py",
   "mimetype": "text/x-python",
   "name": "python",
   "nbconvert_exporter": "python",
   "pygments_lexer": "ipython3",
   "version": "3.11.5"
  }
 },
 "nbformat": 4,
 "nbformat_minor": 5
}
